{
 "cells": [
  {
   "cell_type": "code",
   "execution_count": null,
   "id": "16efba76",
   "metadata": {},
   "outputs": [],
   "source": [
    "import streamlit as st\n",
    "\n",
    "def calculate_mean(degrees):\n",
    "    total = sum(degrees)\n",
    "    mean = total / len(degrees)\n",
    "    return mean\n",
    "\n",
    "def main():\n",
    "    st.title(\"Student Degree Mean Calculator\")\n",
    "    st.write(\"Enter the degrees for each subject:\")\n",
    "\n",
    "    subject_count = st.number_input(\"Number of Subjects\", min_value=1, max_value=10, value=1, step=1)\n",
    "    degrees = []\n",
    "\n",
    "    for i in range(int(subject_count)):\n",
    "        degree = st.number_input(f\"Subject {i+1} Degree\", min_value=0, max_value=100, value=0, step=1)\n",
    "        degrees.append(degree)\n",
    "\n",
    "    if st.button(\"Calculate Mean\"):\n",
    "        mean = calculate_mean(degrees)\n",
    "        st.success(f\"The mean of the degrees is: {mean:.2f}\")\n",
    "\n",
    "if _name_ == \"__main__\":\n",
    "    main()"
   ]
  }
 ],
 "metadata": {
  "kernelspec": {
   "display_name": "Python 3 (ipykernel)",
   "language": "python",
   "name": "python3"
  },
  "language_info": {
   "codemirror_mode": {
    "name": "ipython",
    "version": 3
   },
   "file_extension": ".py",
   "mimetype": "text/x-python",
   "name": "python",
   "nbconvert_exporter": "python",
   "pygments_lexer": "ipython3",
   "version": "3.11.4"
  }
 },
 "nbformat": 4,
 "nbformat_minor": 5
}
